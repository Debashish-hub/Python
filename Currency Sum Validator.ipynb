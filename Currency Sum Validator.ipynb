{
 "cells": [
  {
   "cell_type": "code",
   "execution_count": 1,
   "metadata": {},
   "outputs": [
    {
     "name": "stdout",
     "output_type": "stream",
     "text": [
      "Money count is as follows:\n",
      "20 rs :  50 nos\n",
      "1 rs :  1 nos\n",
      "51  is the minimum count of monry bills required\n"
     ]
    }
   ],
   "source": [
    "import numpy as np\n",
    "\n",
    "\n",
    "def bill_count(money, list_money):\n",
    "    money_counter = len(list_money)*[0]\n",
    "    min_money_count = 0\n",
    "    sorted_list = np.sort(list_money)[::-1]\n",
    "    print(\"Money count is as follows:\")\n",
    "    for i, j in zip(sorted_list, money_counter):\n",
    "        if money >= i:            \n",
    "            j = money//i\n",
    "            money = money - j*i\n",
    "            print(i,\"rs : \", j,\"nos\")\n",
    "            min_money_count += j\n",
    "    print(min_money_count, \" is the minimum count of monry bills required\")        \n",
    "    \n",
    "            \n",
    "            \n",
    "bill_count(1001, [1, 10, 20])\n"
   ]
  },
  {
   "cell_type": "code",
   "execution_count": null,
   "metadata": {},
   "outputs": [],
   "source": []
  }
 ],
 "metadata": {
  "kernelspec": {
   "display_name": "Python 3",
   "language": "python",
   "name": "python3"
  },
  "language_info": {
   "codemirror_mode": {
    "name": "ipython",
    "version": 3
   },
   "file_extension": ".py",
   "mimetype": "text/x-python",
   "name": "python",
   "nbconvert_exporter": "python",
   "pygments_lexer": "ipython3",
   "version": "3.7.4"
  }
 },
 "nbformat": 4,
 "nbformat_minor": 2
}
